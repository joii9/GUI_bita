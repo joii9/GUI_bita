{
 "cells": [
  {
   "cell_type": "code",
   "execution_count": 13,
   "id": "362e8826-9a24-4a23-a9a0-841ce0de420d",
   "metadata": {},
   "outputs": [
    {
     "data": {
      "text/plain": [
       "<Popen: returncode: None args: 'explorer \"Z:\\\\Documentation Library\\\\Encript...>"
      ]
     },
     "execution_count": 13,
     "metadata": {},
     "output_type": "execute_result"
    }
   ],
   "source": [
    "import subprocess\n",
    "\n",
    "subprocess.Popen(r'explorer \"Z:\\Documentation Library\\Encriptores\"')"
   ]
  },
  {
   "cell_type": "code",
   "execution_count": 17,
   "id": "e628afb2-6173-4fdf-8460-467d5139cb9f",
   "metadata": {},
   "outputs": [
    {
     "data": {
      "text/plain": [
       "<Popen: returncode: None args: 'Z:\\\\Documentation Library\\\\Encriptores\\\\Cent...>"
      ]
     },
     "execution_count": 17,
     "metadata": {},
     "output_type": "execute_result"
    }
   ],
   "source": [
    "subprocess.Popen(r\"Z:\\Documentation Library\\Encriptores\\Centurion encryptor key loading.pdf\",shell=True)"
   ]
  },
  {
   "cell_type": "code",
   "execution_count": 27,
   "id": "d66c5649-69e6-4c63-84cc-2c4004b82f35",
   "metadata": {},
   "outputs": [],
   "source": [
    "def encriptores():\n",
    "    subprocess.Popen(r\"Z:\\Documentation Library\\Encriptores\\Centurion encryptor key loading.pdf\",shell=True)"
   ]
  },
  {
   "cell_type": "code",
   "execution_count": 28,
   "id": "17e349b8-cbcd-41c1-af3a-f8cc6af6c3ed",
   "metadata": {},
   "outputs": [],
   "source": [
    "encriptores()"
   ]
  },
  {
   "cell_type": "code",
   "execution_count": null,
   "id": "dd13121d-134a-41ae-b38a-720e3cb8426b",
   "metadata": {},
   "outputs": [],
   "source": []
  }
 ],
 "metadata": {
  "kernelspec": {
   "display_name": "Python 3 (ipykernel)",
   "language": "python",
   "name": "python3"
  },
  "language_info": {
   "codemirror_mode": {
    "name": "ipython",
    "version": 3
   },
   "file_extension": ".py",
   "mimetype": "text/x-python",
   "name": "python",
   "nbconvert_exporter": "python",
   "pygments_lexer": "ipython3",
   "version": "3.12.7"
  }
 },
 "nbformat": 4,
 "nbformat_minor": 5
}
