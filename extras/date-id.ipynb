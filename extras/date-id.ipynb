{
 "cells": [
  {
   "cell_type": "code",
   "execution_count": 76,
   "id": "d938ce67",
   "metadata": {},
   "outputs": [
    {
     "name": "stdout",
     "output_type": "stream",
     "text": [
      "2023-05-02\n",
      "20230502\n",
      "2023050201\n",
      "2023050201\n"
     ]
    }
   ],
   "source": [
    "from datetime import date\n",
    "\n",
    "today= date.today()\n",
    "print(today)\n",
    "\n",
    "dateformat= today.strftime(\"%Y%m%d\")\n",
    "print(dateformat)\n",
    "\n",
    "date=str(dateformat)\n",
    "id=\"01\"\n",
    "\n",
    "\n",
    "dateformatID= dateformat+id\n",
    "print(dateformatID)\n",
    "\n",
    "x=int(dateformatID)\n",
    "#x=str(dateformatID)\n",
    "#txt=\"STRING: \" + x\n",
    "#print(txt)\n",
    "\n",
    "list=[x]\n",
    "print(list[0])\n",
    "\n",
    "\n",
    "\n",
    "#x += 1\n",
    "\n",
    "#print(x)\n",
    "\n",
    "#x += 1\n",
    "\n",
    "#print(x)\n",
    "\n"
   ]
  },
  {
   "cell_type": "code",
   "execution_count": 96,
   "id": "3700f6b3",
   "metadata": {},
   "outputs": [
    {
     "data": {
      "text/plain": [
       "20230502.0"
      ]
     },
     "execution_count": 96,
     "metadata": {},
     "output_type": "execute_result"
    }
   ],
   "source": [
    "(x-x%100)/100\n",
    "#int(str(dateformat))"
   ]
  },
  {
   "cell_type": "code",
   "execution_count": 3,
   "id": "c5004508",
   "metadata": {},
   "outputs": [],
   "source": [
    "def getID(x):\n",
    "    from datetime import date\n",
    "    \n",
    "    today= date.today()\n",
    "    dateformat= today.strftime(\"%Y%m%d\")\n",
    "    \n",
    "    if (x-x%100)/100==int(str(dateformat)):\n",
    "        id=x%100+1\n",
    "    else:\n",
    "        id=1\n",
    "    return int(str(dateformat))*100+id      \n",
    "    "
   ]
  },
  {
   "cell_type": "code",
   "execution_count": 26,
   "id": "779e7374",
   "metadata": {},
   "outputs": [
    {
     "data": {
      "text/plain": [
       "2023052401"
      ]
     },
     "execution_count": 26,
     "metadata": {},
     "output_type": "execute_result"
    }
   ],
   "source": [
    "getID(20230519)"
   ]
  },
  {
   "cell_type": "code",
   "execution_count": 98,
   "id": "fd0f23c6",
   "metadata": {},
   "outputs": [
    {
     "data": {
      "text/plain": [
       "30"
      ]
     },
     "execution_count": 98,
     "metadata": {},
     "output_type": "execute_result"
    }
   ],
   "source": [
    "7474237509230%100"
   ]
  },
  {
   "cell_type": "code",
   "execution_count": 114,
   "id": "3974174d",
   "metadata": {},
   "outputs": [
    {
     "name": "stdout",
     "output_type": "stream",
     "text": [
      "cadena no vacia\n",
      "26\n"
     ]
    }
   ],
   "source": [
    "cad=\"rrhgkjgkg20230203025\"\n",
    "if cad:\n",
    "    print(\"cadena no vacia\")\n",
    "    print(int(cad[-2:])+1)\n",
    "else:\n",
    "    print(\"cadena vacia\")"
   ]
  },
  {
   "cell_type": "code",
   "execution_count": 142,
   "id": "fe9ef8d4",
   "metadata": {},
   "outputs": [
    {
     "name": "stdout",
     "output_type": "stream",
     "text": [
      "2023052501\n"
     ]
    }
   ],
   "source": [
    "import sqlite3\n",
    "from datetime import date\n",
    "\n",
    "aux=date.today()\n",
    "dateformat=aux.strftime(\"%Y%m%d\")\n",
    "today=str(dateformat)\n",
    "connection = sqlite3.connect(\"C:/Users/Joel/Desktop/test_db/IT_database.db\")\n",
    "cursor = connection.cursor()\n",
    "last=cursor.execute(\"SELECT dateid FROM events WHERE dateid>=\"+today+\"00\")\n",
    "z=last.fetchall()\n",
    "if str(z) == \"None\" or len(z)==0:\n",
    "    dateID=today+\"01\"\n",
    "else:\n",
    "    lastID=str(z[-1])[1:-2]\n",
    "    dateID=str(int(today)*100+int(lastID[-2:])+1)\n",
    "print(dateID)\n",
    "    "
   ]
  },
  {
   "cell_type": "code",
   "execution_count": 126,
   "id": "27196a96",
   "metadata": {
    "scrolled": true
   },
   "outputs": [
    {
     "name": "stdout",
     "output_type": "stream",
     "text": [
      "2023052402\n"
     ]
    }
   ],
   "source": [
    "print(str(z[-1])[1:-2])"
   ]
  },
  {
   "cell_type": "code",
   "execution_count": 139,
   "id": "fec35e86",
   "metadata": {
    "scrolled": true
   },
   "outputs": [
    {
     "name": "stdout",
     "output_type": "stream",
     "text": [
      "[(2023052401,), (2023052402,)]\n"
     ]
    }
   ],
   "source": [
    "print(z)"
   ]
  },
  {
   "cell_type": "markdown",
   "id": "823e4786",
   "metadata": {},
   "source": [
    "## Esto que se puede observar, es la funcion dateid, check_dateid y getID que funciona y mas adelante la convertiré en una sola funcion"
   ]
  },
  {
   "cell_type": "code",
   "execution_count": null,
   "id": "6e01ff10",
   "metadata": {},
   "outputs": [],
   "source": [
    "    def dateid (self): #Esta función es para colocar la fecha en el formato correcto en eventwindowGUI\n",
    "        today=date.today()\n",
    "        dateformat=today.strftime(\"%Y%m%d\")\n",
    "        return str(dateformat)\n",
    "        \n",
    "\n",
    "    def check_dateid (self): \n",
    "        connection = sqlite3.connect(\"C:/Users/Joel/Desktop/test_db/IT_database.db\")\n",
    "        cursor = connection.cursor()\n",
    "        last=cursor.execute(\"SELECT dateid FROM events WHERE dateid>=\"+self.dateid()+\"00\")\n",
    "\n",
    "        print(\"SELECT dateid FROM events WHERE dateid>=\"+self.dateid()+\"00\")\n",
    "        #print(dir(last))\n",
    "        z=last.fetchall()\n",
    "        print(z)\n",
    "\n",
    "        if str(z)==\"None\" or len(z)==0:\n",
    "            z=int(self.dateid())\n",
    "        else:\n",
    "            z=int(str(z[-1])[1:-2])\n",
    "        \n",
    "        print(z)\n",
    "        return z\n",
    "\n",
    "    def getID(self, x):\n",
    "    \n",
    "        today= date.today()\n",
    "        dateformat= today.strftime(\"%Y%m%d\")\n",
    "    \n",
    "        if (x-x%100)/100==int(str(dateformat)):\n",
    "            id=x%100+1\n",
    "        else:\n",
    "            id=1\n",
    "        return int(str(dateformat))*100+id"
   ]
  },
  {
   "cell_type": "markdown",
   "id": "4d3cfb46",
   "metadata": {},
   "source": [
    "## Voy a hacer una sola función para date, para checkDateID, y para getID llamada dateID"
   ]
  },
  {
   "cell_type": "markdown",
   "id": "c4cadef7",
   "metadata": {},
   "source": [
    "Voy a importar todo lo que necesito para hacer esta función"
   ]
  },
  {
   "cell_type": "code",
   "execution_count": 6,
   "id": "9dbf8baf",
   "metadata": {},
   "outputs": [],
   "source": [
    "import sqlite3 #Esto es importado para checkDateID donde voy a comprobar en la base de datos que no exista una entrada mayor\n",
    "#o igual dado en el query\n",
    "from datetime import date # Esto es importado par a consultar y dar formato a la fecha que aparecera en la GUI"
   ]
  },
  {
   "cell_type": "code",
   "execution_count": 7,
   "id": "746c071a",
   "metadata": {},
   "outputs": [],
   "source": [
    "def dateID (): \n",
    "    today=date.today() #Esto es para colocar la fecha en el formato correcto añomesdia.\n",
    "    dateformat=today.strftime(\"%Y%m%d\")\n",
    "    print(dateformat) #dateformat es un string\n",
    "\n",
    "    connection = sqlite3.connect(\"C:/Users/Joel/Desktop/test_db/IT_database.db\") #Comprobar que no haya entrada con la fecha \n",
    "    cursor = connection.cursor()\n",
    "    dateid =cursor.execute(\"SELECT dateid FROM events WHERE dateid>=\"+dateformat+\"00\")\n",
    "    check=dateid.fetchall()\n",
    "    print(check)\n",
    "    print(\"SELECT dateid FROM events WHERE dateid>=\"+dateformat+\"00\")\n",
    "\n",
    "    if str(check) == \"[]\": #getID esto es para añadir dos digitos despues de la fecha añomesdia+00 inicializado en 1\n",
    "        print(\"Dentro del if\")\n",
    "        print(int(dateformat))\n",
    "        id= int(dateformat)*100+1\n",
    "        print(id)\n",
    "    else:\n",
    "        print(\"Dentro del else\")\n",
    "        check= int(str(check[-1])[1:-2])\n",
    "        print(check)\n",
    "        last=(check)+1\n",
    "        print(last)\n",
    "    "
   ]
  },
  {
   "cell_type": "code",
   "execution_count": 8,
   "id": "1affc24f",
   "metadata": {},
   "outputs": [
    {
     "name": "stdout",
     "output_type": "stream",
     "text": [
      "20230531\n",
      "[]\n",
      "SELECT dateid FROM events WHERE dateid>=2023053100\n",
      "Dentro del if\n",
      "20230531\n",
      "2023053101\n"
     ]
    }
   ],
   "source": [
    "dateID()"
   ]
  },
  {
   "cell_type": "code",
   "execution_count": 147,
   "id": "9f12ec1d",
   "metadata": {},
   "outputs": [
    {
     "name": "stdout",
     "output_type": "stream",
     "text": [
      "20230525\n"
     ]
    }
   ],
   "source": [
    "print(dateformat)"
   ]
  },
  {
   "cell_type": "code",
   "execution_count": 148,
   "id": "c03ddc71",
   "metadata": {},
   "outputs": [
    {
     "data": {
      "text/plain": [
       "int"
      ]
     },
     "execution_count": 148,
     "metadata": {},
     "output_type": "execute_result"
    }
   ],
   "source": [
    "type(7)"
   ]
  },
  {
   "cell_type": "code",
   "execution_count": null,
   "id": "e5a1dee6",
   "metadata": {},
   "outputs": [],
   "source": []
  }
 ],
 "metadata": {
  "kernelspec": {
   "display_name": "Python 3 (ipykernel)",
   "language": "python",
   "name": "python3"
  },
  "language_info": {
   "codemirror_mode": {
    "name": "ipython",
    "version": 3
   },
   "file_extension": ".py",
   "mimetype": "text/x-python",
   "name": "python",
   "nbconvert_exporter": "python",
   "pygments_lexer": "ipython3",
   "version": "3.9.12"
  }
 },
 "nbformat": 4,
 "nbformat_minor": 5
}
