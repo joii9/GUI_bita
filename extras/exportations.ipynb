{
 "cells": [
  {
   "cell_type": "markdown",
   "id": "d3257d5e",
   "metadata": {},
   "source": [
    "# How to treat a string given for the user. Slicing the information to decide what we going to do"
   ]
  },
  {
   "cell_type": "code",
   "execution_count": 39,
   "id": "61aaa6d5",
   "metadata": {
    "scrolled": true
   },
   "outputs": [
    {
     "name": "stdout",
     "output_type": "stream",
     "text": [
      "Estas dentro del if\n",
      "Se trata del inicio de los indicadores \n",
      "2023010200\n",
      "Se trata del fin de los indicadores\n",
      "2024123000\n"
     ]
    }
   ],
   "source": [
    "import sqlite3\n",
    "import subprocess\n",
    "\n",
    "buscar=\"ind: 2023010200 - 2024123000\"\n",
    "\n",
    "\n",
    "if buscar[:-24] == \"ind:\":\n",
    "    print(\"Estas dentro del if\")\n",
    "    \n",
    "    if len(buscar[5:-13]) == 10:\n",
    "        print(\"Se trata del inicio de los indicadores \")\n",
    "        inicio=buscar[5:-13]\n",
    "        print(buscar[5:-13])\n",
    "        \n",
    "        if len(buscar[-10:]) == 10:\n",
    "            print(\"Se trata del fin de los indicadores\")\n",
    "            fin=buscar[-10:]\n",
    "            print(fin)\n",
    "        \n",
    "        connection = sqlite3.connect(\"C:/Users/Joel/Desktop/GUI_bita/IT_database.db\")\n",
    "        cursor = connection.cursor()\n",
    "\n",
    "        QUERY=\"\"\".mode box\n",
    ".headers on\n",
    ".excel\n",
    "SELECT EVENTS.DATEID, EVENTS.USERID, EVENTS.TICKET, EVENTS.EVENT, MARKSMX2.DAILY, MARKSMX2.WEEKLY, MARKSMX2.SEMESTER, MARKSMX2.INCMX2, MARKSMX2.CORRMX2, MARKSMX2.ATINCMX2, MARKSMX3.DAILY, MARKSMX3.WEEKLY, MARKSMX3.SEMESTER, MARKSMX3.INCMX3, MARKSMX3.CORRMX3, MARKSMX3.ATINCMX3\n",
    "FROM EVENTS\n",
    "LEFT JOIN MARKSMX2\n",
    "ON EVENTS.DATEID = MARKSMX2.DATEID\n",
    "LEFT JOIN MARKSMX3\n",
    "ON EVENTS.DATEID = MARKSMX3.DATEID\n",
    "WHERE EVENTS.DATEID > \"\"\"+inicio+\" AND EVENTS.DATEID < \"+fin+\";\"\"\"\n",
    "        \n",
    "        f = open(\"C:/Users/Joel/Desktop/GUI_bita/indicadores.sql\", \"w\")\n",
    "        f.write(QUERY)\n",
    "        #print(f.read())\n",
    "        f.close()\n",
    "        \n",
    "        subprocess.call([\"sqlite3\", \"IT_database.db\", \".read indicadores.sql\"], shell=True)"
   ]
  },
  {
   "cell_type": "code",
   "execution_count": 78,
   "id": "04969417",
   "metadata": {
    "scrolled": true
   },
   "outputs": [
    {
     "name": "stdout",
     "output_type": "stream",
     "text": [
      "[(2024013101, 'Analista', '002-24', 'Alejandro de Dinamica Orbital, reporta a sistemas que un archivo llamado Mexsat2_Mass_Log lo abrio el dia de hoy pero la informacion que agrego  el dia lunes 29 de enero ya no se encontraba en el excel. Este comportamiento se ha visto en anteriores ocasiones con otros archivos. ', '0', 0, 0, 1, 0, 0, None, None, None, None, None, None), (2024013102, 'Analista', '002-24', 'Para solucionar la problematica que los archivos no contengan la información que se les adjunta. Se crearon cuatro tareas de respaldo que Dinamica Orbital encuentra como criticas y estan dividias entre los servidores izenggs1 e izenggs2 con la siguiente disposicion: En izenggs1 se encuentran los archivos, TCT_v1.2 y Mexsat-3 GEOStar-2 PropMap y en izenggs2 se encuentran los archivos, TCT_20170411 Y Mesat2_Mass_Log. Estas cuatro tareas fueron creadas con el software Symantec System Recovery.', None, 0, 0, 0, 0, 1, None, None, None, None, None, None), (2024021501, 'invitado', '003-24', 'Miau', None, None, None, None, None, None, '0', 0, 0, 1, 1, 0), (2024021502, 'Usuario', '003-24', 'Se resuelve el miau', None, 0, 0, 0, 0, 0, None, None, None, None, None, None), (2024021901, 'invitado', None, '0', None, None, None, None, None, None, None, None, None, None, None, None), (2024021902, 'Usuario', 'None', '0', None, 0, 0, 0, 0, 0, None, None, None, None, None, None), (2024021903, 'Usuario', 'None', \"Prueba de 'comillas'\", None, 0, 0, 0, 0, 0, None, None, None, None, None, None), (2024021904, 'Analista', 'None', '0', None, 0, 0, 0, 0, 0, None, None, None, None, None, None), (2024021905, 'Usuario', 'None', '0', None, 0, 0, 0, 0, 0, None, None, None, None, None, None), (2024021906, 'invitado', None, '+', None, None, None, None, None, None, None, None, None, None, None, None), (2024021907, 'invitado', None, '0', None, None, None, None, None, None, None, None, None, None, None, None), (2024021908, 'invitado', None, \"'+'Prueba de Comillas'+'\", None, None, None, None, None, None, None, None, None, None, None, None), (2024021909, 'Analista', None, \"Prueba de 'Comillas'\", None, None, None, None, None, None, None, None, None, None, None, None), (2024021910, 'Usuario', 'None', '0', None, 0, 0, 0, 0, 0, None, None, None, None, None, None), (2024021911, 'Invitado', 'None', \"Prueba de ''Comillas''\", None, 0, 0, 0, 0, 0, None, None, None, None, None, None), (2024021912, 'invitado', None, \"ahora si hijo de tu 'puta madre'\", None, None, None, None, None, None, None, None, None, None, None, None), (2024021913, 'invitado', None, \"vamo ''a ver''\", None, None, None, None, None, None, None, None, None, None, None, None), (2024022001, 'Usuario', 'None', '', None, 0, 0, 0, 0, 0, None, None, None, None, None, None), (2024022002, 'Analista', 'None', '', None, 0, 0, 0, 0, 0, None, None, None, None, None, None), (2024022101, 'Analista', None, 'contratación', None, None, None, None, None, None, None, None, None, None, None, None), (2024022102, 'Analista', None, \"''contratación''\", None, None, None, None, None, None, None, None, None, None, None, None), (2024032001, 'Analista', None, 'fhj', None, None, None, None, None, None, None, None, None, None, None, None), (2024032201, 'Analista', '004-24', 'test de numero de ticket existente', '0', 0, 0, 1, 0, 0, None, None, None, None, None, None)]\n"
     ]
    }
   ],
   "source": [
    "import sqlite3\n",
    "\n",
    "connection = sqlite3.connect(\"C:/Users/Joel/Desktop/GUI_bita/IT_database.db\")\n",
    "cursor = connection.cursor()\n",
    "\n",
    "QUERY=\"\"\"\n",
    "SELECT EVENTS.DATEID, EVENTS.USERID, EVENTS.TICKET, EVENTS.EVENT, MARKSMX2.DAILY, MARKSMX2.WEEKLY, MARKSMX2.SEMESTER, MARKSMX2.INCMX2, MARKSMX2.CORRMX2, MARKSMX2.ATINCMX2, MARKSMX3.DAILY, MARKSMX3.WEEKLY, MARKSMX3.SEMESTER, MARKSMX3.INCMX3, MARKSMX3.CORRMX3, MARKSMX3.ATINCMX3\n",
    "FROM EVENTS\n",
    "LEFT JOIN MARKSMX2\n",
    "ON EVENTS.DATEID = MARKSMX2.DATEID\n",
    "LEFT JOIN MARKSMX3\n",
    "ON EVENTS.DATEID = MARKSMX3.DATEID\n",
    "WHERE EVENTS.DATEID > 2024000000 AND EVENTS.DATEID < 2025000000;\"\"\"\n",
    "\n",
    "cursor.execute(QUERY)\n",
    "rows= cursor.fetchall()\n",
    "print(rows)"
   ]
  },
  {
   "cell_type": "code",
   "execution_count": 31,
   "id": "1349b46a",
   "metadata": {},
   "outputs": [
    {
     "name": "stdout",
     "output_type": "stream",
     "text": [
      "ind:\n",
      "2023010200\n",
      "2024123000\n"
     ]
    }
   ],
   "source": [
    "buscar= \"ind: 2023010200 - 2024123000\"\n",
    "\n",
    "print(buscar[:-24])\n",
    "print(buscar[5:-13])\n",
    "print(buscar[-10:])\n",
    "\n",
    "if buscar[:-12] == \"ind:\":\n",
    "    print(\"Estas dentro del if\")"
   ]
  },
  {
   "cell_type": "code",
   "execution_count": 11,
   "id": "39ff2336",
   "metadata": {},
   "outputs": [
    {
     "name": "stdout",
     "output_type": "stream",
     "text": [
      "28\n",
      "ind:\n",
      "ind:\n"
     ]
    }
   ],
   "source": [
    "from tkinter import * \n",
    "from tkinter import messagebox\n",
    "\n",
    "buscar=\"ind: 2023010200 - 2024123000\"\n",
    "\n",
    "print(len(buscar))\n",
    "print(buscar[:-24])\n",
    "print(buscar[0:4])\n",
    "\n",
    "Info=\"\"\"El formato correcto es\n",
    "ind: YYYYMMDDII - YYYYMMDDII\n",
    "\n",
    "YYYY cuatro digitos para el año\n",
    "MM dos digitos para el mes\n",
    "DD dos digitos para el día\n",
    "II dos digitos para el identificador\n",
    "\n",
    "Recuerdatorio: Respeta el espacio depues de ind: y los espacios en el guion medio -\n",
    "\"\"\"\n",
    "\n",
    "if buscar[:-24] == \"ind:\" and len(buscar) < 29:\n",
    "    messagebox.showinfo(\"Error de formato\", Info)\n",
    "    \n",
    "    \n"
   ]
  },
  {
   "cell_type": "code",
   "execution_count": null,
   "id": "87d8efa7",
   "metadata": {},
   "outputs": [],
   "source": []
  },
  {
   "cell_type": "code",
   "execution_count": null,
   "id": "53964870",
   "metadata": {},
   "outputs": [],
   "source": []
  },
  {
   "cell_type": "code",
   "execution_count": null,
   "id": "ff37e60e",
   "metadata": {},
   "outputs": [],
   "source": []
  },
  {
   "cell_type": "code",
   "execution_count": null,
   "id": "2e737444",
   "metadata": {},
   "outputs": [],
   "source": []
  },
  {
   "cell_type": "code",
   "execution_count": null,
   "id": "66705493",
   "metadata": {},
   "outputs": [],
   "source": []
  },
  {
   "cell_type": "code",
   "execution_count": null,
   "id": "d77a188e",
   "metadata": {},
   "outputs": [],
   "source": []
  },
  {
   "cell_type": "code",
   "execution_count": null,
   "id": "c2187526",
   "metadata": {},
   "outputs": [],
   "source": []
  },
  {
   "cell_type": "code",
   "execution_count": null,
   "id": "e033b497",
   "metadata": {},
   "outputs": [],
   "source": []
  },
  {
   "cell_type": "code",
   "execution_count": null,
   "id": "bac4e704",
   "metadata": {},
   "outputs": [],
   "source": []
  },
  {
   "cell_type": "code",
   "execution_count": 98,
   "id": "be8e335c",
   "metadata": {},
   "outputs": [
    {
     "name": "stdout",
     "output_type": "stream",
     "text": [
      "2024013101\n"
     ]
    }
   ],
   "source": [
    "line= str(rows[0]).split(\",\")\n",
    "print(line[0][1:])"
   ]
  },
  {
   "cell_type": "markdown",
   "id": "bab9e658",
   "metadata": {},
   "source": [
    "# Export from Python to Excel"
   ]
  },
  {
   "cell_type": "code",
   "execution_count": 35,
   "id": "eabea7a2",
   "metadata": {},
   "outputs": [],
   "source": [
    "import xlsxwriter"
   ]
  },
  {
   "cell_type": "code",
   "execution_count": 161,
   "id": "5374f5f3",
   "metadata": {},
   "outputs": [
    {
     "name": "stdout",
     "output_type": "stream",
     "text": [
      "<class 'list'>\n",
      "(2024013101\n",
      " 'Analista'\n",
      " '002-24'\n",
      " 'Alejandro de Dinamica Orbital\n",
      " reporta a sistemas que un archivo llamado Mexsat2_Mass_Log lo abrio el dia de hoy pero la informacion que agrego  el dia lunes 29 de enero ya no se encontraba en el excel. Este comportamiento se ha visto en anteriores ocasiones con otros archivos. '\n",
      " '0'\n",
      " 0\n",
      " 0\n",
      " 1\n",
      " 0\n",
      " 0\n",
      " None\n",
      " None\n",
      " None\n",
      " None\n",
      " None\n",
      " None)\n"
     ]
    }
   ],
   "source": [
    "workbook = xlsxwriter.Workbook(\"Indicators.xlsx\")\n",
    "worksheet = workbook.add_worksheet(\"FirstSheet\")\n",
    "\n",
    "worksheet.write(0,0, \"DATEID\")\n",
    "worksheet.write(0,1, \"USERID\")\n",
    "worksheet.write(0,2, \"TICKET\")\n",
    "worksheet.write(0,3, \"EVENT\")\n",
    "worksheet.write(0,4, \"DAILY\")\n",
    "worksheet.write(0,5, \"WEEKLY\")\n",
    "worksheet.write(0,6, \"SEMESTER\")\n",
    "worksheet.write(0,7, \"INCMX2\")\n",
    "worksheet.write(0,8, \"CORRMX2\")\n",
    "worksheet.write(0,9, \"ATINCMX2\")\n",
    "worksheet.write(0,10, \"DAILY\")\n",
    "worksheet.write(0,11, \"WEEKLY\")\n",
    "worksheet.write(0,12, \"SEMESTER\")\n",
    "worksheet.write(0,13, \"INCMX2\")\n",
    "worksheet.write(0,14, \"CORRMX2\")\n",
    "worksheet.write(0,15, \"ATINCMX2\")\n",
    "#worksheet.write(0,16, \"DATEID\")\n",
    "\n",
    "line= str(rows[0]).split(\",\")\n",
    "print(type(line))\n",
    "#print(type(line[1]))\n",
    "\n",
    "\n",
    "\n",
    "for i in range(len(line)):\n",
    "    data=str([i])\n",
    "    print(line[i])\n",
    "    worksheet.write(1,i, line[i]) \n",
    "    \n",
    "\n",
    "workbook.close()"
   ]
  },
  {
   "cell_type": "code",
   "execution_count": 143,
   "id": "af8f1ba4",
   "metadata": {},
   "outputs": [
    {
     "name": "stdout",
     "output_type": "stream",
     "text": [
      "<class 'list'>\n",
      "c\n",
      "<class 'str'>\n",
      "<class 'str'>\n",
      "<class 'str'>\n"
     ]
    }
   ],
   "source": [
    "list=[\"a\", \"b\", \"c\"]\n",
    "print(type(list))\n",
    "print(list[-1])\n",
    "\n",
    "\n",
    "for i in list:\n",
    "    x=str([i])\n",
    "    print(type(x))"
   ]
  },
  {
   "cell_type": "code",
   "execution_count": null,
   "id": "3f9a6431",
   "metadata": {},
   "outputs": [],
   "source": [
    "list[i]"
   ]
  },
  {
   "cell_type": "code",
   "execution_count": null,
   "id": "a86b350c",
   "metadata": {},
   "outputs": [],
   "source": []
  },
  {
   "cell_type": "code",
   "execution_count": null,
   "id": "98172fdb",
   "metadata": {},
   "outputs": [],
   "source": []
  },
  {
   "cell_type": "code",
   "execution_count": null,
   "id": "2be2c8a6",
   "metadata": {},
   "outputs": [],
   "source": []
  },
  {
   "cell_type": "code",
   "execution_count": null,
   "id": "daaa21fc",
   "metadata": {},
   "outputs": [],
   "source": []
  },
  {
   "cell_type": "code",
   "execution_count": null,
   "id": "8aaff45c",
   "metadata": {},
   "outputs": [],
   "source": []
  },
  {
   "cell_type": "code",
   "execution_count": null,
   "id": "cca1ea5f",
   "metadata": {},
   "outputs": [],
   "source": []
  },
  {
   "cell_type": "code",
   "execution_count": null,
   "id": "e8f4beb3",
   "metadata": {},
   "outputs": [],
   "source": []
  },
  {
   "cell_type": "code",
   "execution_count": null,
   "id": "8c8c6d84",
   "metadata": {},
   "outputs": [],
   "source": []
  },
  {
   "cell_type": "code",
   "execution_count": null,
   "id": "90063191",
   "metadata": {},
   "outputs": [],
   "source": []
  },
  {
   "cell_type": "code",
   "execution_count": null,
   "id": "594f0c95",
   "metadata": {},
   "outputs": [],
   "source": []
  },
  {
   "cell_type": "code",
   "execution_count": null,
   "id": "a2221f46",
   "metadata": {},
   "outputs": [],
   "source": []
  },
  {
   "cell_type": "code",
   "execution_count": null,
   "id": "3949230b",
   "metadata": {},
   "outputs": [],
   "source": []
  },
  {
   "cell_type": "code",
   "execution_count": 61,
   "id": "0ec23cf8",
   "metadata": {},
   "outputs": [
    {
     "name": "stdout",
     "output_type": "stream",
     "text": [
      "ind: 2024\n",
      "2024\n",
      "2024\n"
     ]
    }
   ],
   "source": [
    "buscar=\"ind: 2024\"\n",
    "if buscar[:5]==\"ind: \":\n",
    "    print(buscar)\n",
    "    print(buscar[5:])\n",
    "    print(buscar.replace(\"ind: \",\"\"))"
   ]
  },
  {
   "cell_type": "code",
   "execution_count": 58,
   "id": "ad5feca3",
   "metadata": {},
   "outputs": [
    {
     "data": {
      "text/plain": [
       "'2024'"
      ]
     },
     "execution_count": 58,
     "metadata": {},
     "output_type": "execute_result"
    }
   ],
   "source": [
    "buscar.replace(\"ind: \",\"\")"
   ]
  },
  {
   "cell_type": "code",
   "execution_count": 60,
   "id": "dfc5ffa0",
   "metadata": {},
   "outputs": [
    {
     "name": "stdout",
     "output_type": "stream",
     "text": [
      "ind: 2024\n"
     ]
    }
   ],
   "source": [
    "print(buscar)"
   ]
  },
  {
   "cell_type": "code",
   "execution_count": null,
   "id": "d7af2825",
   "metadata": {},
   "outputs": [],
   "source": []
  }
 ],
 "metadata": {
  "kernelspec": {
   "display_name": "Python 3 (ipykernel)",
   "language": "python",
   "name": "python3"
  },
  "language_info": {
   "codemirror_mode": {
    "name": "ipython",
    "version": 3
   },
   "file_extension": ".py",
   "mimetype": "text/x-python",
   "name": "python",
   "nbconvert_exporter": "python",
   "pygments_lexer": "ipython3",
   "version": "3.9.12"
  }
 },
 "nbformat": 4,
 "nbformat_minor": 5
}
