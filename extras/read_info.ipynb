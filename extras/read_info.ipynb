{
 "cells": [
  {
   "cell_type": "markdown",
   "id": "c7d09d8a",
   "metadata": {},
   "source": [
    "# How to read information from a file"
   ]
  },
  {
   "cell_type": "code",
   "execution_count": 56,
   "id": "5bd66fdb",
   "metadata": {},
   "outputs": [
    {
     "name": "stdout",
     "output_type": "stream",
     "text": [
      "C:/Users/Joel/Desktop/GUI_bita/IT_database.db\n",
      "C:/Users/Joel/Desktop/GUI_bita/extras/table.html\n",
      "C:/Users/Joel/Desktop/GUI_bita/indicadores.sql\n"
     ]
    }
   ],
   "source": [
    "#import re\n",
    "\n",
    "paths= r\"paths.txt\"\n",
    "\n",
    "paths = open(paths, 'r').read()\n",
    "\n",
    "#print(paths)\n",
    "\n",
    "ubi = re.split(\"\\n\", paths)\n",
    "\n",
    "\n",
    "aux_path= ubi[0]\n",
    "#print(aux_path)\n",
    "path=aux_path[6:-1]\n",
    "print(path)\n",
    "\n",
    "\n",
    "\n",
    "aux_search=ubi[1]\n",
    "#print(aux_path)\n",
    "search= aux_search[8:-1]\n",
    "print(search)\n",
    "\n",
    "\n",
    "aux_ind=ubi[2]\n",
    "#print(aux_ind)\n",
    "ind= aux_ind[5:-1]\n",
    "print(ind)"
   ]
  },
  {
   "cell_type": "code",
   "execution_count": null,
   "id": "6b521f2c",
   "metadata": {},
   "outputs": [],
   "source": []
  }
 ],
 "metadata": {
  "kernelspec": {
   "display_name": "Python 3 (ipykernel)",
   "language": "python",
   "name": "python3"
  },
  "language_info": {
   "codemirror_mode": {
    "name": "ipython",
    "version": 3
   },
   "file_extension": ".py",
   "mimetype": "text/x-python",
   "name": "python",
   "nbconvert_exporter": "python",
   "pygments_lexer": "ipython3",
   "version": "3.12.7"
  }
 },
 "nbformat": 4,
 "nbformat_minor": 5
}
