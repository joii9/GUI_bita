{
 "cells": [
  {
   "cell_type": "code",
   "execution_count": 137,
   "id": "c77e8f84-1337-4643-9e5d-e140f2c5a572",
   "metadata": {},
   "outputs": [],
   "source": [
    "QUERY_TV=\"\"\"   SELECT EVENTS.DATEID, EVENTS.TICKET, EVENTS.USERID, EVENTS.EVENT, MARKSMX2.ATINCMX2, MARKSMX3.ATINCMX3 \n",
    "                    FROM EVENTS \n",
    "                    LEFT JOIN MARKSMX2 \n",
    "                    ON EVENTS.DATEID = MARKSMX2.DATEID \n",
    "                    LEFT JOIN MARKSMX3 \n",
    "                    ON EVENTS.DATEID = MARKSMX3.DATEID;\"\"\""
   ]
  },
  {
   "cell_type": "markdown",
   "id": "f5330702-7ac5-499a-832d-39c47e9021cf",
   "metadata": {},
   "source": [
    "# Style for the treeview"
   ]
  },
  {
   "cell_type": "code",
   "execution_count": 145,
   "id": "2cc28907-e33f-4881-95b8-2137a4118578",
   "metadata": {},
   "outputs": [],
   "source": [
    "import sqlite3\n",
    "import tkinter\n",
    "\n",
    "from tkinter import ttk\n",
    "\n",
    "class MainWindow():\n",
    "\n",
    "    def __init__(self):\n",
    "\n",
    "        self.win= tkinter.Tk()\n",
    "        self.win.title(\"BITACORA DE SISTEMAS\")\n",
    "        self.win.configure(bg=\"#D49FFF\")\n",
    "        self.win.geometry(\"1200x300\")\n",
    "\n",
    "    def create_table(self):\n",
    "\n",
    "        #if hasattr(self, 'my_tree'):\n",
    "        #    self.my_tree.destroy() #Destruye el treeview si existe\n",
    "        #    self.add_event.destroy() #Destruye el boton add_event si existe\n",
    "\n",
    "        columns = (\"DATEID\", \"TICKET\", \"USERID\", \"EVENT\") #, \"ATINCMX2\", \"ATINCMX3\"\n",
    "        self.my_tree = ttk.Treeview(self.win, column = columns, show = 'headings', height = 5) #height = Significa el numero de renglones que tiene el treeview\n",
    "\n",
    "        self.my_tree.column(\"DATEID\", anchor='center', width=100)\n",
    "        self.my_tree.column(\"TICKET\", anchor='center', width=100)\n",
    "        self.my_tree.column(\"USERID\", anchor='center', width=100) \n",
    "        self.my_tree.column(\"EVENT\", anchor= 'w', width= 600)\n",
    "        #self.my_tree.column(\"ATINCMX2\", anchor= 'center', width= 100)\n",
    "        #self.my_tree.column(\"ATINCMX3\", anchor= 'center', width= 100)\n",
    "\n",
    "        self.my_tree.heading(\"DATEID\", text=\"DATEID\", anchor='center')\n",
    "        self.my_tree.heading(\"TICKET\", text=\"TICKET\", anchor='center')\n",
    "        self.my_tree.heading(\"USERID\", text=\"USUARIO\", anchor='center')\n",
    "        self.my_tree.heading(\"EVENT\", text=\"EVENTO\", anchor='w')\n",
    "        #self.my_tree.heading(\"ATINCMX2\", text=\"ATENCION MX2\", anchor='center')     \n",
    "        #self.my_tree.heading(\"ATINCMX3\", text=\"ATENCION MX3\", anchor='center')     \n",
    "        self.my_tree.pack()\n",
    "\n",
    "        #Create striped row tags\n",
    "        self.my_tree.tag_configure('None', background=\"White\")\n",
    "        self.my_tree.tag_configure('MX2', background=\"#949426\")\n",
    "        self.my_tree.tag_configure('MX3', background=\"#408080\")\n",
    "        self.my_tree.tag_configure('Red', background=\"Red\")\n",
    "        \n",
    "        connection = sqlite3.connect(\"C:/Users/Joel/Desktop/GUI_bita/IT_database.db\")\n",
    "\n",
    "        #Creating a cursor\n",
    "        cursor = connection.cursor()\n",
    "\n",
    "        \n",
    "        cursor.execute(QUERY_TV) #TreeView\n",
    "\n",
    "        rows= cursor.fetchall()\n",
    "        print(rows)\n",
    "       \n",
    "        for row in rows:\n",
    "            if row[-2] == None and row[-1] == None:\n",
    "                self.my_tree.insert(\"\", 0, values = row, tag='None')\n",
    "            elif row[-2]:\n",
    "                self.my_tree.insert(\"\", 0, values = row, tag='MX2')\n",
    "            elif row[-1]:\n",
    "                self.my_tree.insert(\"\", 0, values = row, tag='MX3')\n",
    "            else:\n",
    "                self.my_tree.insert(\"\", 0, values = row, tag='Red')\n",
    "        connection.close()\n",
    "\n",
    "    def show(self):\n",
    "\n",
    "        self.win.mainloop()\n",
    "    "
   ]
  },
  {
   "cell_type": "code",
   "execution_count": 146,
   "id": "973acb93-70a5-433c-909e-e68b4556162a",
   "metadata": {},
   "outputs": [
    {
     "name": "stdout",
     "output_type": "stream",
     "text": [
      "[(2023030601, None, 'Analista', 'No levanta el stream de bicentenario playback', None, None), (2023031301, None, 'Analista', 'Carlos reporta no poder conectar el stream de playback', None, None), (2023032401, None, 'Analista', 'Tlacelel me reporta en multiples ocasiones que su simulación del toggle se detiene constantemente cuando realiza solicitudes atraves del izengfep1 y en cada ocasión se ha visto en la necesidad de reiniciar los servicios de epoch con el comando restartEpoch.sh.', None, None), (2023032701, None, 'Coordinador', 'Se deja de tener telemetria en la izopsws2, el analisis apunta a que se salio de dominio la computadora y esto genera que no se pueda tener telemetria', None, None), (2023052301, None, 'Analista', 'Brandon reporta que la bitacora de operaciones en la izopsws3 no puede reconocer los streams, por lo que se visualizan valores en morado en la bitacora.', None, None), (2023052601, None, 'Analista', 'Texworks no abre o tarda demasiado tiempo en abrir. Textworks es utilizado en la bitacora de operaciones para generar los reportes de turno en latex', None, None), (2023122201, '', 'Analista', 'Me percato que el servidor izenggs1 se encontraba trabado debido a una tarea que ocupaba los recursos del servidor. Solucioné esto reiniciando el servicio. El script SUI de ingenieria marcaba que las tareas AzEl se habian ejecutado corretamente, pero la bitacora de operaciones marcaba que los archivos eran inexistentes. Se recuperaron las mediciones faltantes de AzEl.', None, None), (2024013101, '002-24', 'Analista', 'Alejandro de Dinamica Orbital, reporta a sistemas que un archivo llamado Mexsat2_Mass_Log lo abrio el dia de hoy pero la informacion que agrego  el dia lunes 29 de enero ya no se encontraba en el excel. Este comportamiento se ha visto en anteriores ocasiones con otros archivos. ', 0, None), (2024013102, '002-24', 'Analista', 'Para solucionar la problematica que los archivos no contengan la información que se les adjunta. Se crearon cuatro tareas de respaldo que Dinamica Orbital encuentra como criticas y estan dividias entre los servidores izenggs1 e izenggs2 con la siguiente disposicion: En izenggs1 se encuentran los archivos, TCT_v1.2 y Mexsat-3 GEOStar-2 PropMap y en izenggs2 se encuentran los archivos, TCT_20170411 Y Mesat2_Mass_Log. Estas cuatro tareas fueron creadas con el software Symantec System Recovery.', 1, None), (2024021401, '003-24', 'Analista', 'Israel reporta problemas para conectarse al stream mx2_rt1@izengfep1.\\nSe reiniciaron los servicios de Epoch en la izengws2, pero esto no solucionó el problema.\\nSe reiniciaron los servicios de Epoch en izengfep1 y a su vez, le solicite a Israel que detuviera su simulación. Se hace nuevamente en el intento, primeramente conectando el stream y luego abriendo las ventanas correspondientes y esto soluciono el problema.', 1, None), (2024021901, '004-24', 'Analista', \"Dinamica Orbital reporta que la distribucion de efemerides tuvo un error al copiarse al servidor hmopsfep0. El script BAT que copia este archivo .dat a los diferentes fep tanto de Iztapalapa como de Hermosillo mostraba un error en el hmopsfep0. Se intento resolver abriendo una sesion ftp en hmopsfep0 y colocarlo mediante linea de comandos pero no pudo ser posible ya que mostraba un error de terminal llamado 'Read only file'. Cabe mencionnar que este error no se habia visualizado antes. Y tras varias pruebas con la sesion ftp, se analizo reiniciar el hmopsfep0 para intentar hacer la copia del archivo. Despues de haberse reiniciado este servidor se pudo copiar el archivo .dat sin problema en la ruta correcta del servidor. \", 1, None), (2024031301, None, 'Coordinador', 'Se revisaron servidores, estaciones de trabajo, switches del server room y RF, los equipos se encuentran trabajando correctamente.', None, None), (2024031302, '005-24', 'Coordinador', 'A las 7:17 pm hora local del 26 de febrero de 2024 se recibe llamada de Quetzalsin de Control reportando alarma en el CCMS, se le solicita revisar la tarea de generación de efemérides en ingeniería y encuentra que falló, se le pide ejecutarla manualmente y falla de nuevo, se le pide verificar cuándo fue la última ejecución exitosa, encontrando que fue la del día anterior, dado que los archivos de efemérides tienen vigencia de 3 días, no es crítico generar un nuevo archivo, por lo que se decide que se hará la revisión de la tarea al día siguiente.\\nSe contacta a César Gracia quien aún se encontraba en el Centro de Control de Hermosillo, se le solicita revisar la tarea de generación de efemérides, encuentra en el log que el problema es el remote commander, reinicia la estación de trabajo y la ejecuta de nuevo, se generan los archivos pero no se transfieren los archivos CSV, le pido cambiar la tarea a la estación de trabajo 4, en donde logra que se transfieran los archivos que faltaban, Quetzalsin de Control confirma que se limpiaron las alarmas del CCMS.\\nEl día 27 de marzo por la mañana se revisa la estación de trabajo 3 de ingeniería, se finaliza el proceso remote commander y se inicia nuevamente, también se finaliza un proceso del Task Initiator que estaba duplicado, por la tarde se ejecuta manualmente la tarea de generación de efemérides, la cual genera y transfiere correctamente todos los archivos.', 1, None), (2024031303, '006-24', 'Coordinador', \"El 28 de febrero de 2024 Se recibe reporte de Carlos de Nave sobre un problema tras la ejecución del rango remoto de MX2, quedando ''atorada'' la conexión de epoch hacia el BBU1 de Hermosillo, se resetearon las conexiones de los puertos del BBU pero siguió sin permitir desconectar EPOCH, se contactó a Alvaro Zamudio, sugirió levantar la portadora de Hermosillo, sin embargo el problema persistió, al final se decidió reiniciar servicios de EPOCH en el fep 2 de Iztapalapa, tras lo cual EPOCH se reconectó correctamente al BBU1 de Iztapalapa, se corrió el rango remoto exitosamente y se dejó correr el rango local automático, también de manera correcta.\", 1, None), (2024031304, '', 'Analista', 'El equipo de nave espacial solicita la ayuda de sistemas ya que intentaron programar una tarea en el Task Scheduler pero en las izengws1 e izengws2 esta tarea no corria en la hora programada pero si el archivo BAT. Esto indicaba un error en la generación de la tarea. Esta tarea fue programada en izengws3 donde corrio correctamente. El problema que generaba que no corriera en izengws1y2 era que se encontraba una carpeta corrupta llamada Daily, que esta carpeta no se visualizaba en la izengws3, esta carpeta fue eliminada desde el izenggs1 pero se tuvo que eliminar primero su contenido. ', 0, None), (2024032501, '007-24', 'Coordinador', 'Se revisaron servidores, estaciones de trabajo, switches del server room y RF, se detectó falla en un ventilador del switch2 de ingeniería, se tomarán acciones para prevenir interrupción en la ejecución de tareas en tanto se resuelve el problema, el resto de los equipos se encuentran trabajando correctamente.', 0, None), (2024032502, '007-24', 'Coordinador', 'Se pasó la ejecución de las tareas de Acimut y Elevación a la estación de trabajo 3 de ingeniería, ya que por la falla del ventilador en el switch 2 de ingeniería, la estación de trabajo 4 corre el riesgo de quedar desconectada de la red. Se notificó del problema a Dinámica Orbital, para que trabajen en la estación de trabajo 3 en tanto se resuelve el problema.', 0, None), (2024032503, '007-24', 'Coordinador', 'Se retiró el equipo y se hizo limpieza, dado que los ventiladores internos de este switch nunca habían fallado, el equipo nunca había sido abierto, por lo que tenía una gran cantidad de polvo acumulada en los ventiladores, los mantenimientos preventivos no contemplan la limpieza de switches precisamente por lo invasivo que resulta perder la mitad de las estaciones de trabajo en un dominio, sin embargo se analizará qué opciones tenemos. \\n\\nTras la limpieza del equipo lo pusimos a prueba por varias horas y los ventiladores funcionaron bien, la alarma ya no volvió a presentarse, por lo que no fue necesario reemplazar ningún componente.\\n\\nDurante este mantenimiento correctivo, identificamos que algunas estaciones de trabajo no estaban cableadas de la manera en que muestran los diagramas de Kratos, las workstations nones deberían estar conectadas al switch 1 y las pares al switch 2, sin embargo las workstations 3 y 7 estaban conectadas al switch 2 y las workstations 4 y 6 estaban conectadas al switch 1, por lo que aprovechamos para conectarlas al switch que les corresponde.\\n\\nTras encender el switch y concluir la corrección del cableado, todas las estaciones de trabajo de ingeniería vuelven a estar disponibles y las tareas se regresan a los equipos en los que estaban programadas originalmente.\\n', 1, None), (2024032504, None, 'Coordinador', 'Se lleva a cabo el mantenimiento semanal, se hace el respaldo de los archivos del archive, se verifica que se han respaldado las carpetas de Oasys,   los servidores y estaciones de trabajo están funcionando correctamente, así como las tareas programadas, el antivirus se encuentra actualizado.', None, None), (2024032505, None, 'Coordinador', 'Se atiende la visita de Safran Data Systems', None, None), (2024032601, '007-24', 'Coordinador', 'Durante la revisión del día de hoy nos percatamos que volvió a aparecer la alarma del ventilador del switch 2 de ingeniería, por lo que necesitamos retirarlo nuevamente para ahora si hacer el reemplazo del ventilador, sin embargo, gracias a que ayer se corrigió el cableado, ya hay certeza de los equipos que serán afectados mientras trabajamos (estaciones de trabajo 2, 4 y 6 de ingeniería), para minimizar la afectación, se conectarán temporalmente al switch 1, por lo que sólo habrá un pequeño transitorio en cada equipo al cambiarlo de switch. El tiempo estimado para los trabajos es de 40 minutos, les confirmaremos una vez reinstalado el equipo , antes de regresar las conexiones al switch 2. El resto de los equipos revisados están trabajando correctamente', 0, None), (2024032602, '007-24', 'Coordinador', 'Se reemplazó el ventilador 1 (ventilador central interno) del switch 2 de ingeniería, se tomó el reemplazo de uno de los switches de spare que tenemos en la bodega de la subdirección, ya que los ventiladores que teníamos para reemplazo no fueron compatibles, ya que se adquirieron para reemplazar los ventiladores de la fuente, no los internos del switch, tras el reemplazo se estuvo monitoreando mediante la conexión Telnet y ya no volvieron a aparecer alarmas en el ventilador.', 1, None), (2024052101, '008-24', 'Coordinador', 'Durante el mantenimiento semanal del 20 de mayo se detectó que el disco 07 del arreglo de datos de la NAS 3 se encuentra en falla, se revisó el inventario de discos y aún se cuenta con un disco de repuesto. Se apaga servidor, previo aviso a personal de Control, se reemplaza el disco dañado (Disco 07), se instaló el disco con número de serie Z4B00PV0, se retira el disco con número de serie 9WM6PG53.\\nSe enciende el servidor y se configura el disco nuevo como Hot Spare, con lo cual el sistema comienza la reconstrucción de la información, por la tarde se revisa y la reconstrucción ha concluido, con lo que se elimina la alarma, excepto por la alarma de falla en la batería de la tarjeta PERC, para la cual ya no se cuenta con baterías de reemplazo, pero que no causa problemas para el funcionamiento del equipo.', None, 1), (2024070801, '010-24', 'Analista', \"El día 1 de julio el controlador Jonathan Gallegos me reporta mediante correo electronico que los archivos de rango, azimut y elevacion de ambos satelites no se estaban ''generando''. Durante el mantenimiento semanal, revise esta situación y los archivos si se generaban ya que se encontraban en sus respectivas ubicaciones, esto dependiendo de donde se estuvieran ejecutando las tareas. Por ejemplo, los archivos de morelos 3 como en esta fecha morelos 3 se encontraba en Hermosillo, los archivos se encontraban en la carpeta de OD_Tracking de hmenggs1. El problema real era que los archivos no se reflejaban en la bitacora de operaciones. Revisando los logs que se generan automaticamente los días lunes para el mantenimiento semanal se observaron unos datos anormales en el izenggs2. Esto explica la razón principal por la cual los archivos no se reflejaban en la bitacora ya que lo mas problable era que el equipo se hubiera trabado y con ello las tareas de sincronización que tiene la aplicación SureSync de las carpetas de OD_Tracking. La solución inmediata fue la de revisar el equipo presencialmente en el server room pero al intentar iniciar sesión el equipo dejo de responder dejandolo así por unos minutos, esto para evitar apagar el servidor fuera de un  periodo de mantenimiento semestral. Lamentablemente el servidor no respondio y se apagó desde su propio boton de power, despues de esto el equipo encendio sin ningun problema. Paralelamente a esto, Cesar Gracia me contactó para informarme que Ernesto Garcia de dinamica orbital no tenia la totalidad de los archivos de rango, azimut y elevación para la planificación de la siguiente maniobra de mx3, por lo que se dio prioridad a resolver esta desincronización de los archivos de la tarea de mx3 y se corrio extemporaneamente la tarea de sincronización de estos archivos. Unos minutos despues se le notificó a Cesar Gracia que los archivos faltantes ya estarían en la ubicación correspondiente de Hermosillo y Ernesto Garcia continuo con la planificación de la maniobra. Y respecto a los archivos faltantes de morelos 3 que aun no se encontraban en Iztapalapa, Cesar Gracia decidio dejar que la tarea de sincronización de mx2 corriera en el horario designado. Despues de la hora se pudo observar que la bitacora de operaciones mostraba todos los archivos de rango, azimut y elevación en su correcta ubicación tanto de Iztapalapa como de Hermosillo. \", None, 1), (2024100201, '011-24', 'Coordinador', 'El lunes 30 Carlos Macías de Nave Espacial reportó problemas para comandar Morelos 3, tras hacer las revisiones pertinentes se detectó un problema para conectarse al encriptor primario. Al revisar el encriptor se detectó que su pantalla ya no enciende. Se decidió cargar las llaves, lo cual se tuvo que hacer a ciegas, sólamente siguiendo el procedimiento de carga, pero antes de hacerlo se quiso hacer una prueba con los encriptores de Centenario, que ya se encuentran apagados, al encenderlos se detectó que el encriptor primario también presenta el mismo problema con la pantalla. Se hicieron las pruebas con el encriptor de respaldo de Centenario, y posteriormente se cargaron las llaves en los encriptores primario y de respaldo de Morelos 3, tras lo cuel el personal de Nave Espacial ya pudo conectarse a ambos encriptores. El día miércoles 2 de octubre se abrió el reporte MEX-COSC-TR-24-0319 con Boeing para solicitar recomendaciones para su reemplazo, y para empezar a coordinar el envío de los equipos para su reparación.', 0, None), (2024111401, '012-24', 'Analista', 'El día 21 de Octubre Alejandro Flores de dinamica orbital reporta que el archivo PropMap de Bicentenario no se encuentra en la carpeta. Parte del problema en el analisis inmediato que se realizó fue que el software SureSync que es el software responsable de mantener sincronizadas carpetas especificas entre Iztapalapa y Hermosillo ha borrado este archivo ya que cuando el equipo de dinamica orbital ha guardado los cambios de este archivo ha coincidido con la sincronización de los sitios y al no detectar las modificaciones, ya que se encuentra en el proceso de guardado (el archivo tarda un tiempo considerable en efectuar el proceso de guardado) porque el archivo contiene bastante información con demasiadas formulas de calculo esto entorpece la sincronización de los sitios y el software opta por eliminar este archivo. ', None, 0), (2024111402, '012-24', 'Analista', 'Se trabajó en un una solución que a pesar de que el SureSync elimine este archivo no se pierda la información agregada al archivo o que bien el archivo sea eliminado por el software SureSync pero se encuentre respaldado en otra ubicación desde el momento que el usuario guarda sus cambios en este archivo. La solución consta de un script en python que esta monitoreando todo el tiempo este archivo. Cuando el usuario hace una modificación en el archivo de excel el script en python se encarga de copiar este archivo en una ubicación diferente fuera de las carpetas de sincronización del SureSync. Esto significa que cuando el usuario hace una modificación el archivo fue respaldado en otra ubicación inmediatamente por si se vuelve a presentar el problema de la eliminación de este archivo poder recuperarlo incluso con la información agregada en el. ', None, 1), (2024120901, '015-24', 'Analista', 'izenggs2 se encuentra con el menos del 10% en la unidad C: por un archivo llamado pagefile.sys', 0, None), (2024120902, '015-24', 'Analista', 'Se elimina el archivo pagefile.sys desde las propiedades del sistema y se configura manualmente la capacidad del archivo y fue configurada de 8000 a 9000. ', 1, None), (2024121601, '016-24', 'Analista', \"Respecto al script que monitorea las modificaciones del archivo propMap rev9. Alejandro de dinamica orbital me comenta que empezaran a trabajar con el archivo de propMap rev10. Esto para poder modificar el script del archivo que vigila de la rev9 a la rev10. El script fue modificado para monitorear el archivo rev10. Un cambio en la practica solicitada al equipo de Dinamica Orbital era que trabajar el archivo desde un acceso directo que direccionaba al archivo al izenggs2. Solicite que por favor ahora trabajaran con normalidad abriendo el archivo desde la carpeta compartida ''Operations Data'' en el windows explorer. \", None, 1), (2024121602, '017-24', 'Analista', 'La izengws5 presenta problemas en el ventilador de su tarjeta de video ya que deja de girar, esto puede ser por el uso natural del ventilador para enfriar la tarjeta. Provocando que la computadora se trabe y sea imposible utilizarla. Se llevara a cabo el cambio de ventilador en la tarjeta de video', None, 0), (2024121603, '018-24', 'Analista', 'El switch 2 de operaciones presenta una alarma ya que uno de sus ventiladores ha dejado de funcionar. Queda pendiente desmontar el switch y hacer el cambio de su respectivo ventilador. ', 0, None), (2024121801, '018-24', 'Analista', 'Se reemplazo el ventilador del switch 2 de operaciones.', 1, None), (2025010301, '001-25', 'Analista', 'Angel borja me reporta que el archivo PropMap rev10 fue modificado en Hermosillo y que la información ni se ve reflejada en Iztapalapa y tampoco se guardó con exito en Hermosillo.', None, 0), (2025011001, '001-25', 'Analista', 'Se le comenta a Angel Borja si podia crear el acceso directo en Hermosillo del nuevo archivo de PropMap y me comenta que el archivo sera sustituido la proxima semana que espere al nuevo archivo para poder modificar el script del monitoreo del archivo. He generado un nuevo script de monitoreo version 1.3.0 donde he creado una variable con el nombre del archivo a monitorear. La razón de crar una variable con el nombre del archivo es para sustituir el nombre del archivo en esa variable y que el script funcione correctamente en cada proceso realizado para su funcionamiento. ', None, 0), (2025011501, '001-25', 'Analista', 'Debido a que Dinamica Orbital recibio el nuevo archivo con el mismo nombre no he puesto a funcionar el script con version 1.3.0 por lo que sigue trabajando la version 1.2.0. Por lo que en trabajo conjunto con Ernesto de Hermosillo cree el acceso directo de la rev. 10 del archivo del prop Map en el escritorio de la hmengws2 que esta direccionado a la ruta del izenggs2. La operación de este archivo se mantendrá así hasta que Northrop Grumman envie un nuevo archivo y cambie de nombre para ejecutar la version 1.3.0 ya que con el mismo nombre no hubo necesidad de cambiar el nombre del archivo en el script. ', None, 1), (2025040801, '002-25', 'Coordinador', \"Durante las revisiones efectuadas como parte del mantenimiento semanal, se detectó que el disco 12 de la NAS 3 presentaba estado de falla, dicho disco pertenece al arreglo en el cual está instalado el sistema operativo. El servidor continúa funcionando con el disco espejo (disco 13).\\nSe verifica que se cuenta con existencia de discos de reemplazo, se programa el cambio para el martes 18 de febrero.\\t\\t\\t\\n''Se lleva a cabo el reemplazo del disco 12\\n\\nDisco retirado: S/N WXF1E62KPUV1\\nDisco INSTALADO: S/N 5510A0CWFRD6\\n\\nSe configuró el disco como Hot Spare, con lo cual inicia la reconstrucción de la información a partir del disco 13.''\\t\\t\\t\\nConcluye exitosamente la reconstrucción de la información en el disco 12, el disco virtual queda funcionando de manera nominal.\\t\\t\\t\\n\\n\\t\\n\\t\\t\\t\\t\\t\\n\\t\\t\\t\\t\\t\\t\\t\\n\\t\\t\\t\\t\\t\\t\\t\\n\\t\\t\\t\\t\\t\\t\\t\\n\\t\\t\\t\\t\\t\\t\\t\\n\\t\\t\\t\\t\\t\\t\\t\\n\", None, 1), (2025040802, '003-25', 'Analista', 'El día de ayer 07 de abril de 2025 se recuperó el archivo de checklist del turno 25040401 ya que cuando generaron sus reportes el archivo checklist no se pudo generar esto debido a una virgulilla. La virgulilla se inserta intencionalmente en el procesamiento de la bitacora de control porque algunos valores pueden visualizarce encimados sino se inserta esta virgulilla en latex. Para recuperar el archivo del checklist se tienen que seguir una serie de pasos que enlisto a continuación:\\n1. Abrir aplicación de TexWorks que demora demasiado tiempo en prepararse y estar lista para trabajar en ella. Una vez lista es necesario seleccionar el compilador XeLatex \\n2. En la ruta bitacora-operaciones hay un archivo .py con el nombre GENERA REPO el cual tiene algunas opciones y seleccionaremos la opcion correcta del checklist. El script nos solicitará el numero de turno correspondiente al checklist que no se logró generar.\\n3. Esta acción replicara el error y creará los archivos temporales en la ruta de bitacora-operaciones correspondientes al turno en cuestion.\\n4. En nuestra aplicación TexWorks necesitamos abrir el archivo maincarta_IZ.tex donde iremos probando las secciones que pueden tener error. Un consejo que resulta util para hacer las pruebas del checklist es primeramente retirar la seccion de Morelos 3 y guardar el archivo. Compilamos en TexWords el archivo maincarta_IZ.tex. Si el archivo se logra generar significa que el error que impide se genere correctamente el checklist esta en la seccion retirada, en este caso Morelos 3. Una vez identificacada la seccion que genera problemas podriamos retirar por /hline hasta donde termina ese /hline que generalmente terminan con //. Una vez identificada la linea donde podria estar el error, se pudiese resolver rescribiendo la linea para que el caracter raro que pudiese estar causando que el archivo no se genere correctamente desaparezca. Generalmente los caracteres raros estan en la sección de alarmas ya que los controles copian y pegan las alarmas directamente desde Epoch. Para comentar una linea en latex el caracter es % porciento.\\n5. Una vez el archivo se haya generado correctamente con toda la información es necesario recuperarlo de la ruta bitacora-operaciones y completar el correo de los controladores con el reporte de turno y dar alcance al correo donde el checklist se omitio. ', 1, None), (2025051301, '004-25', 'Analista', \"Al llevar a cabo el mantenimiento semestral de servidores en Iztapalapa. El servidor izopsfep3 recibio su mantenimiento e inicializó de manera correcta, pero el software Epoch en varias ocaciones sufre una ''desconfiguración'' de los BBUs (Cortex). El problema es evidente porque arroja un error en el events viewer de Epoch. Algunas leyendas como: ''TCU cannot connect'', ''The link is break'', etc. Ademas de visualizar en la pagina de epoch Baseband Cortex en el area de TM/TC (Telemetria y Telecomando) que el ultimo valor del TCU status esta en rojo. La solución a esto es reiniciar el numero de clientes en el BBU, esto se puede hacer desde la aplicación ''Cortex Monitoring & Control'' con la conexión al BBU que se encuentra conectado. Posteriormente dar click en un icono tipo clavija que se encuentra en la esquina superior derecha de la ventana que abrirá otra ventana llamada ''izm3tbb<1ó3> ~ TCP-IP Clients. En esta ventana bajar la barra de desplazamiento dar click en la llave para desbloquear las opciones de Reset y de este modo tenemos que dar en el boton Reset All. Ademas de hacer este reset se tiene que configurar nuevamente el numero de secuencias en el CRAU en la ventana principal del BBU. El CRAU en el icono rojo con dos flechas señalando a la izquierda y derecha con un signo de interrogación el centro. Al dar click sobre este icono se abrira otra ventana llamada Ranging. En ella sera necesario cambiar el numero de secuencias de 10 a 2. Para eso habra que dar click en el boton config que nos permitira cambiar de 10 a 2. Sin esta acción el numero que pongamos cambiara constantemente a 10. Y para aplicar los cambios dar click en el boton Apply. Esto resuelve el error del TCU en la sección TM/TC.  \", None, 1), (2025051501, '005-25', 'Analista', 'Teclado del KVM tiene desperfectos, algunas teclas no funcionan correctamente. Algunas de ellas son la barra de espacio y la tecla O. ', 0, None), (2025052701, '', 'Analista', 'Se ha agregado una caracteristica nueva al script que genera un respaldo del izengcds1 y libera espacio del almacenamiento en la unidad D:. Ahora cuando el script se ejecute debería agregar la fecha de ejecución a un archivo en izengnas3/d$ llamado Backup_log.txt así como el espacio con el que termina despues de mover los archivos a la izengnas3.', None, 0)]\n"
     ]
    }
   ],
   "source": [
    "main_window = MainWindow()\n",
    "main_window.create_table()\n",
    "main_window.show()\n"
   ]
  },
  {
   "cell_type": "code",
   "execution_count": 122,
   "id": "9cf2ed8e-3bb3-4f93-b186-27d07b594e64",
   "metadata": {},
   "outputs": [
    {
     "name": "stdout",
     "output_type": "stream",
     "text": [
      "(None, None)\n",
      "BLANCO\n",
      "(None, None)\n",
      "BLANCO\n",
      "(None, None)\n",
      "BLANCO\n",
      "(None, None)\n",
      "BLANCO\n",
      "(None, None)\n",
      "BLANCO\n",
      "(None, None)\n",
      "BLANCO\n",
      "(None, None)\n",
      "BLANCO\n",
      "(None, None)\n",
      "BLANCO\n",
      "(None, None)\n",
      "BLANCO\n",
      "(None, None)\n",
      "BLANCO\n",
      "(0, None)\n",
      "ROJO\n",
      "(1, None)\n",
      "Mx2\n",
      "(None, None)\n",
      "BLANCO\n",
      "(None, None)\n",
      "BLANCO\n",
      "(None, None)\n",
      "BLANCO\n",
      "(None, None)\n",
      "BLANCO\n",
      "(None, None)\n",
      "BLANCO\n",
      "(None, None)\n",
      "BLANCO\n"
     ]
    }
   ],
   "source": [
    "import sqlite3\n",
    "\n",
    "connection = sqlite3.connect(\"C:/Users/Joel/Desktop/GUI_bita/IT_database.db\")\n",
    "\n",
    "#Creating a cursor\n",
    "cursor = connection.cursor()\n",
    "\n",
    "        \n",
    "cursor.execute(QUERY_TV) #TreeView\n",
    "\n",
    "rows= cursor.fetchall()\n",
    "#print(rows)\n",
    "      \n",
    "for row in rows:\n",
    "    print(row[-2:]) #tupla\n",
    "    if row[-2] == None and row[-1] == None:\n",
    "        print(\"BLANCO\")\n",
    "    elif row[-2]:\n",
    "        print(\"Mx2\")\n",
    "    elif row[-1]:\n",
    "        print(\"Mx3\")\n",
    "    else:\n",
    "        print(\"ROJO\")"
   ]
  },
  {
   "cell_type": "code",
   "execution_count": 80,
   "id": "ac13e1d1-ce82-43c0-bf66-b56f2d59f008",
   "metadata": {},
   "outputs": [
    {
     "name": "stdout",
     "output_type": "stream",
     "text": [
      "NoneType puto\n"
     ]
    }
   ],
   "source": [
    "variable= None\n",
    "\n",
    "if variable == 1:\n",
    "    print(\"Obvio NO\")\n",
    "elif variable == None:\n",
    "    print(\"NoneType puto\")\n",
    "else:\n",
    "    print(\"Es otro numero\")"
   ]
  },
  {
   "cell_type": "code",
   "execution_count": 107,
   "id": "fcec50db-6be0-48e8-8297-306d7ae53e57",
   "metadata": {},
   "outputs": [
    {
     "name": "stdout",
     "output_type": "stream",
     "text": [
      "<class 'int'>\n",
      "<class 'NoneType'>\n"
     ]
    }
   ],
   "source": [
    "tupla=(10, None)\n",
    "\n",
    "print(type(tupla[0]))\n",
    "print(type(tupla[1]))"
   ]
  },
  {
   "cell_type": "code",
   "execution_count": null,
   "id": "b2babaf7-255d-419a-82aa-5f546367db1c",
   "metadata": {},
   "outputs": [],
   "source": []
  }
 ],
 "metadata": {
  "kernelspec": {
   "display_name": "Python 3 (ipykernel)",
   "language": "python",
   "name": "python3"
  },
  "language_info": {
   "codemirror_mode": {
    "name": "ipython",
    "version": 3
   },
   "file_extension": ".py",
   "mimetype": "text/x-python",
   "name": "python",
   "nbconvert_exporter": "python",
   "pygments_lexer": "ipython3",
   "version": "3.12.7"
  }
 },
 "nbformat": 4,
 "nbformat_minor": 5
}
