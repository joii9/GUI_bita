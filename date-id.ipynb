{
 "cells": [
  {
   "cell_type": "code",
   "execution_count": 76,
   "id": "d938ce67",
   "metadata": {},
   "outputs": [
    {
     "name": "stdout",
     "output_type": "stream",
     "text": [
      "2023-05-02\n",
      "20230502\n",
      "2023050201\n",
      "2023050201\n"
     ]
    }
   ],
   "source": [
    "from datetime import date\n",
    "\n",
    "today= date.today()\n",
    "print(today)\n",
    "\n",
    "dateformat= today.strftime(\"%Y%m%d\")\n",
    "print(dateformat)\n",
    "\n",
    "date=str(dateformat)\n",
    "id=\"01\"\n",
    "\n",
    "\n",
    "dateformatID= dateformat+id\n",
    "print(dateformatID)\n",
    "\n",
    "x=int(dateformatID)\n",
    "#x=str(dateformatID)\n",
    "#txt=\"STRING: \" + x\n",
    "#print(txt)\n",
    "\n",
    "list=[x]\n",
    "print(list[0])\n",
    "\n",
    "\n",
    "\n",
    "#x += 1\n",
    "\n",
    "#print(x)\n",
    "\n",
    "#x += 1\n",
    "\n",
    "#print(x)\n",
    "\n"
   ]
  },
  {
   "cell_type": "code",
   "execution_count": 96,
   "id": "3700f6b3",
   "metadata": {},
   "outputs": [
    {
     "data": {
      "text/plain": [
       "20230502.0"
      ]
     },
     "execution_count": 96,
     "metadata": {},
     "output_type": "execute_result"
    }
   ],
   "source": [
    "(x-x%100)/100\n",
    "#int(str(dateformat))"
   ]
  },
  {
   "cell_type": "code",
   "execution_count": 3,
   "id": "c5004508",
   "metadata": {},
   "outputs": [],
   "source": [
    "def getID(x):\n",
    "    from datetime import date\n",
    "    \n",
    "    today= date.today()\n",
    "    dateformat= today.strftime(\"%Y%m%d\")\n",
    "    \n",
    "    if (x-x%100)/100==int(str(dateformat)):\n",
    "        id=x%100+1\n",
    "    else:\n",
    "        id=1\n",
    "    return int(str(dateformat))*100+id      \n",
    "    "
   ]
  },
  {
   "cell_type": "code",
   "execution_count": 26,
   "id": "779e7374",
   "metadata": {},
   "outputs": [
    {
     "data": {
      "text/plain": [
       "2023052401"
      ]
     },
     "execution_count": 26,
     "metadata": {},
     "output_type": "execute_result"
    }
   ],
   "source": [
    "getID(20230519)"
   ]
  },
  {
   "cell_type": "code",
   "execution_count": 98,
   "id": "fd0f23c6",
   "metadata": {},
   "outputs": [
    {
     "data": {
      "text/plain": [
       "30"
      ]
     },
     "execution_count": 98,
     "metadata": {},
     "output_type": "execute_result"
    }
   ],
   "source": [
    "7474237509230%100"
   ]
  },
  {
   "cell_type": "code",
   "execution_count": 114,
   "id": "3974174d",
   "metadata": {},
   "outputs": [
    {
     "name": "stdout",
     "output_type": "stream",
     "text": [
      "cadena no vacia\n",
      "26\n"
     ]
    }
   ],
   "source": [
    "cad=\"rrhgkjgkg20230203025\"\n",
    "if cad:\n",
    "    print(\"cadena no vacia\")\n",
    "    print(int(cad[-2:])+1)\n",
    "else:\n",
    "    print(\"cadena vacia\")"
   ]
  },
  {
   "cell_type": "code",
   "execution_count": 40,
   "id": "fe9ef8d4",
   "metadata": {},
   "outputs": [
    {
     "name": "stdout",
     "output_type": "stream",
     "text": [
      "['__class__', '__delattr__', '__dir__', '__doc__', '__eq__', '__format__', '__ge__', '__getattribute__', '__gt__', '__hash__', '__init__', '__init_subclass__', '__iter__', '__le__', '__lt__', '__ne__', '__new__', '__next__', '__reduce__', '__reduce_ex__', '__repr__', '__setattr__', '__sizeof__', '__str__', '__subclasshook__', 'arraysize', 'close', 'connection', 'description', 'execute', 'executemany', 'executescript', 'fetchall', 'fetchmany', 'fetchone', 'lastrowid', 'row_factory', 'rowcount', 'setinputsizes', 'setoutputsize']\n"
     ]
    }
   ],
   "source": [
    "import sqlite3\n",
    "from datetime import date\n",
    "\n",
    "def dateid(): #Esta función es para colocar la fecha en el formato correcto en eventwindowGUI\n",
    "    today=date.today()\n",
    "    dateformat=today.strftime(\"%Y%m%d\")\n",
    "    return str(dateformat)\n",
    "\n",
    "connection = sqlite3.connect(\"C:/Users/Joel/Desktop/test_db/IT_database.db\")\n",
    "cursor = connection.cursor()\n",
    "last=cursor.execute(\"SELECT dateid FROM events WHERE dateid>=\"+dateid()+\"00\")\n",
    "print(dir(last))\n",
    "z=last.fetchall()"
   ]
  },
  {
   "cell_type": "code",
   "execution_count": 43,
   "id": "27196a96",
   "metadata": {},
   "outputs": [
    {
     "name": "stdout",
     "output_type": "stream",
     "text": [
      "2023052402\n"
     ]
    }
   ],
   "source": [
    "print(str(z[-1])[1:-2])"
   ]
  },
  {
   "cell_type": "code",
   "execution_count": 42,
   "id": "fec35e86",
   "metadata": {},
   "outputs": [
    {
     "name": "stdout",
     "output_type": "stream",
     "text": [
      "(2023052402,)\n"
     ]
    }
   ],
   "source": [
    "print(z[-1])"
   ]
  },
  {
   "cell_type": "markdown",
   "id": "4d3cfb46",
   "metadata": {},
   "source": [
    "## Voy a hacer una sola función para date, para checkDateID, y para getID llamada dateID"
   ]
  },
  {
   "cell_type": "markdown",
   "id": "c4cadef7",
   "metadata": {},
   "source": [
    "Voy a importar todo lo que necesito para hacer esta función"
   ]
  },
  {
   "cell_type": "code",
   "execution_count": 46,
   "id": "9dbf8baf",
   "metadata": {},
   "outputs": [
    {
     "ename": "SyntaxError",
     "evalue": "invalid syntax (2008122375.py, line 1)",
     "output_type": "error",
     "traceback": [
      "\u001b[1;36m  Input \u001b[1;32mIn [46]\u001b[1;36m\u001b[0m\n\u001b[1;33m    import sqlite3 '''Esto es importado para checkDateID donde voy a comprobar en la base de datos que no exista una entrada mayor\u001b[0m\n\u001b[1;37m                   ^\u001b[0m\n\u001b[1;31mSyntaxError\u001b[0m\u001b[1;31m:\u001b[0m invalid syntax\n"
     ]
    }
   ],
   "source": [
    "import sqlite3 #Esto es importado para checkDateID donde voy a comprobar en la base de datos que no exista una entrada mayor\n",
    "#o igual dado en el query\n",
    "from datetime import date # Esto es importado par a consultar y dar formato a la fecha que aparecera en la GUI"
   ]
  },
  {
   "cell_type": "code",
   "execution_count": null,
   "id": "746c071a",
   "metadata": {},
   "outputs": [],
   "source": []
  }
 ],
 "metadata": {
  "kernelspec": {
   "display_name": "Python 3 (ipykernel)",
   "language": "python",
   "name": "python3"
  },
  "language_info": {
   "codemirror_mode": {
    "name": "ipython",
    "version": 3
   },
   "file_extension": ".py",
   "mimetype": "text/x-python",
   "name": "python",
   "nbconvert_exporter": "python",
   "pygments_lexer": "ipython3",
   "version": "3.9.12"
  }
 },
 "nbformat": 4,
 "nbformat_minor": 5
}
